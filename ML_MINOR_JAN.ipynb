{
  "nbformat": 4,
  "nbformat_minor": 0,
  "metadata": {
    "colab": {
      "name": "ML-MINOR-JAN",
      "provenance": [],
      "collapsed_sections": []
    },
    "kernelspec": {
      "name": "python3",
      "display_name": "Python 3"
    }
  },
  "cells": [
    {
      "cell_type": "code",
      "metadata": {
        "id": "Guy1U-JPYGWW"
      },
      "source": [
        "# importing needed libraries\r\n",
        "import os\r\n",
        "import matplotlib as plt\r\n",
        "import numpy as np\r\n",
        "from skimage.io import imread\r\n",
        "from skimage.transform import resize\r\n",
        "from sklearn.model_selection import train_test_split\r\n",
        "from sklearn.model_selection import GridSearchCV\r\n",
        "from sklearn import svm\r\n",
        "from sklearn.metrics import accuracy_score, confusion_matrix\r\n",
        "import pickle"
      ],
      "execution_count": 3,
      "outputs": []
    },
    {
      "cell_type": "code",
      "metadata": {
        "id": "bUd5gYFQYKnD"
      },
      "source": [
        "# initialised variables needed for processing data\r\n",
        "target = [] \r\n",
        "images = [] # Matrix Format\r\n",
        "flat_data = [] \r\n",
        "DATADIR = '/content/drive/MyDrive/ML_DATASET'\r\n",
        "CATEGORIES = ['apple','banana','mango','orange']"
      ],
      "execution_count": 67,
      "outputs": []
    },
    {
      "cell_type": "code",
      "metadata": {
        "id": "CP8Omn9IaLjD"
      },
      "source": [
        "# preprocessing data\r\n",
        "# print(CATEGORIES)\r\n",
        "for i in CATEGORIES:\r\n",
        "  class_target=CATEGORIES.index(i)\r\n",
        "  path=os.path.join(DATADIR,i)\r\n",
        "  for img in os.listdir(path):\r\n",
        "    img_path=os.path.join(path,img)\r\n",
        "    # print(img_path)\r\n",
        "    img_array=imread(img_path)\r\n",
        "    img_resized = resize(img_array,(150,150,3))\r\n",
        "    flat_data.append(img_resized.flatten())\r\n",
        "    images.append(img_resized)\r\n",
        "    target.append(class_target)\r\n",
        "flat_data = np.array(flat_data)\r\n",
        "target = np.array(target)\r\n",
        "images = np.array(images)"
      ],
      "execution_count": null,
      "outputs": []
    },
    {
      "cell_type": "code",
      "metadata": {
        "id": "nDuJ8FnzleAM"
      },
      "source": [
        "# split data for training and testing\r\n",
        "x_train,X_test,y_train,y_test=train_test_split(flat_data,target,test_size=0.3,random_state=101)"
      ],
      "execution_count": 69,
      "outputs": []
    },
    {
      "cell_type": "code",
      "metadata": {
        "id": "AgDDCM7opGFZ"
      },
      "source": [
        "# model building and training\r\n",
        "param_grid=[\r\n",
        "            {'C':[1,10,100,1000],'kernel':['linear']},\r\n",
        "            {'C':[1,10,100,1000],'gamma':[0.001,0.0001],'kernel':['rbf']},\r\n",
        "]\r\n",
        "svc=svm.SVC(probability=True)\r\n",
        "clf=GridSearchCV(svc,param_grid)\r\n",
        "clf.fit(x_train,y_train)"
      ],
      "execution_count": null,
      "outputs": []
    },
    {
      "cell_type": "code",
      "metadata": {
        "id": "ydaAw5pHy8jK"
      },
      "source": [
        "# evaluate model\r\n",
        "y_pred= clf.predict(X_test)\r\n",
        "accuracy_score(y_pred,y_test)"
      ],
      "execution_count": null,
      "outputs": []
    },
    {
      "cell_type": "code",
      "metadata": {
        "id": "dq5mQ7_a0zeP"
      },
      "source": [
        "confusion_matrix(y_pred,y_test)"
      ],
      "execution_count": null,
      "outputs": []
    },
    {
      "cell_type": "code",
      "metadata": {
        "id": "T0OUbJhL0eap"
      },
      "source": [
        "# save model\r\n",
        "pickle.dump(clf,open('img_model.p','wb'))\r\n"
      ],
      "execution_count": 91,
      "outputs": []
    },
    {
      "cell_type": "code",
      "metadata": {
        "id": "tooHHrOy-kIx"
      },
      "source": [
        "#runnig saved model\r\n",
        "import pickle\r\n",
        "model=pickle.load(open('img_model.p','rb'))"
      ],
      "execution_count": 92,
      "outputs": []
    },
    {
      "cell_type": "code",
      "metadata": {
        "id": "hwA0J_Ut1ezh"
      },
      "source": [
        "# testing a image out of the dataset\r\n",
        "import os\r\n",
        "import matplotlib as plt\r\n",
        "import numpy as np\r\n",
        "from skimage.io import imread\r\n",
        "from skimage.transform import resize\r\n",
        "import pickle\r\n",
        "model=pickle.load(open('img_model.p','rb'))\r\n",
        "flat_data=[]\r\n",
        "CATEGORIES = ['apple','banana','mango','orange']\r\n",
        "url = input('Enter image url for predication')\r\n",
        "img = imread(url)\r\n",
        "img_resized = resize(img,(150,150,3))\r\n",
        "flat_data.append(img_resized.flatten())\r\n",
        "flat_data = np.array(flat_data)\r\n",
        "plt.pyplot.imshow(img_resized)\r\n",
        "y_out = model.predict(flat_data)\r\n",
        "y_out = CATEGORIES[y_out[0]]\r\n",
        "print(f' PREDICTED OUTPUT: {y_out}')"
      ],
      "execution_count": null,
      "outputs": []
    },
    {
      "cell_type": "code",
      "metadata": {
        "colab": {
          "base_uri": "https://localhost:8080/"
        },
        "id": "r7umhMvx57fP",
        "outputId": "fd8a9aaa-33e1-4eed-8d1f-1507bc84d9b5"
      },
      "source": [
        "# writing python file for webapp\r\n",
        "%%writefile app.py\r\n",
        "import streamlit as st\r\n",
        "import numpy as np\r\n",
        "from skimage.io import imread\r\n",
        "from skimage.transform import resize\r\n",
        "import pickle\r\n",
        "from PIL import Image\r\n",
        "model=pickle.load(open('img_model.p','rb'))\r\n",
        "st.title('Image Classification System using Machine Learning')\r\n",
        "st.text('upload a image')\r\n",
        "uploaded_file=st.file_uploader(\"choos an image....\", type=\"jpg\")\r\n",
        "x=False;\r\n",
        "if uploaded_file is not None:\r\n",
        "  img=Image.open(uploaded_file)\r\n",
        "  st.image(img,caption='uploaded image')\r\n",
        "  x=True;\r\n",
        "CATEGORIES = ['apple','banana','mango','orange']\r\n",
        "if st.button('PREDICT'):\r\n",
        "  if x:\r\n",
        "    flat_data=[]\r\n",
        "    img=np.array(img)\r\n",
        "    img_resized = resize(img,(150,150,3))\r\n",
        "    flat_data.append(img_resized.flatten())\r\n",
        "    flat_data = np.array(flat_data)\r\n",
        "    y_out = model.predict(flat_data)\r\n",
        "    y_out = CATEGORIES[y_out[0]]\r\n",
        "    st.write('result...')\r\n",
        "    # st.write(f' PREDICTED OUTPUT: {y_out}')\r\n",
        "    q=model.predict_proba(flat_data)\r\n",
        "    for index,item in enumerate(CATEGORIES):\r\n",
        "      st.write(f'{item} : {q[0][index]*100}%')"
      ],
      "execution_count": 1,
      "outputs": [
        {
          "output_type": "stream",
          "text": [
            "Overwriting app.py\n"
          ],
          "name": "stdout"
        }
      ]
    },
    {
      "cell_type": "code",
      "metadata": {
        "id": "dHZkigLFC8ex"
      },
      "source": [
        "# troubleshoot ngrok connection\r\n",
        "# !top #extract ngrok process id;\r\n",
        "# !kill -9{<ngrok process-id>}"
      ],
      "execution_count": null,
      "outputs": []
    },
    {
      "cell_type": "code",
      "metadata": {
        "id": "Ombwc8IKfkaA"
      },
      "source": [
        "# streamlit server intialize\r\n",
        "# !streamlit run --server.port 80 app.py >/dev/null "
      ],
      "execution_count": null,
      "outputs": []
    },
    {
      "cell_type": "code",
      "metadata": {
        "id": "5gBcGxke5jIM"
      },
      "source": [
        "# deployment of the model as web app\r\n",
        "!pip install streamlit\r\n",
        "!pip install pyngrok"
      ],
      "execution_count": null,
      "outputs": []
    },
    {
      "cell_type": "code",
      "metadata": {
        "id": "uBo3T3bC7I1q"
      },
      "source": [
        "# deploying ngrok server\r\n",
        "from pyngrok import ngrok\r\n",
        "!nohup streamlit run --server.port 80 app.py >/dev/null &\r\n",
        "url=ngrok.connect(port='80')\r\n",
        "url"
      ],
      "execution_count": null,
      "outputs": []
    }
  ]
}